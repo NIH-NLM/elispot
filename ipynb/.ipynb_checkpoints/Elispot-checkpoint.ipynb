{
 "cells": [
  {
   "cell_type": "markdown",
   "id": "8bc83f66-dd53-447b-8ad3-14006275e704",
   "metadata": {},
   "source": [
    "Analyze the Elispot data from SDY196-SDY201\n"
   ]
  },
  {
   "cell_type": "code",
   "execution_count": 1,
   "id": "f21a29e8-665c-4b2c-85e8-05bd8078170f",
   "metadata": {},
   "outputs": [],
   "source": [
    "if (!require(\"BiocManager\", quietly = TRUE))\n",
    "    install.packages(\"BiocManager\", repos = \"https://cloud.r-project.org\")"
   ]
  },
  {
   "cell_type": "markdown",
   "id": "d3a63957-f7b3-4c21-be77-280724041b61",
   "metadata": {},
   "source": [
    "Load necessary libraries\n"
   ]
  },
  {
   "cell_type": "code",
   "execution_count": 2,
   "id": "ed181131-d9bb-4af9-a251-cb095092163d",
   "metadata": {},
   "outputs": [
    {
     "name": "stderr",
     "output_type": "stream",
     "text": [
      "'getOption(\"repos\")' replaces Bioconductor standard repositories, see\n",
      "'help(\"repositories\", package = \"BiocManager\")' for details.\n",
      "Replacement repositories:\n",
      "    CRAN: https://cran.r-project.org\n",
      "\n",
      "Bioconductor version 3.21 (BiocManager 1.30.26), R 4.5.1 (2025-06-13)\n",
      "\n",
      "Warning message:\n",
      "“package(s) not installed when version(s) same as or greater than current; use\n",
      "  `force = TRUE` to re-install: 'tidyverse'”\n"
     ]
    }
   ],
   "source": [
    "BiocManager::install(\"tidyverse\")"
   ]
  },
  {
   "cell_type": "code",
   "execution_count": 3,
   "id": "950052c0-7cc5-48b1-be45-9ad9f5b7f32a",
   "metadata": {},
   "outputs": [
    {
     "name": "stderr",
     "output_type": "stream",
     "text": [
      "'getOption(\"repos\")' replaces Bioconductor standard repositories, see\n",
      "'help(\"repositories\", package = \"BiocManager\")' for details.\n",
      "Replacement repositories:\n",
      "    CRAN: https://cran.r-project.org\n",
      "\n",
      "Bioconductor version 3.21 (BiocManager 1.30.26), R 4.5.1 (2025-06-13)\n",
      "\n",
      "Warning message:\n",
      "“package(s) not installed when version(s) same as or greater than current; use\n",
      "  `force = TRUE` to re-install: 'plotly'”\n"
     ]
    }
   ],
   "source": [
    "BiocManager::install(\"plotly\")"
   ]
  },
  {
   "cell_type": "code",
   "execution_count": 4,
   "id": "2b114264-6a28-442f-b724-08c1f9084187",
   "metadata": {},
   "outputs": [
    {
     "name": "stderr",
     "output_type": "stream",
     "text": [
      "'getOption(\"repos\")' replaces Bioconductor standard repositories, see\n",
      "'help(\"repositories\", package = \"BiocManager\")' for details.\n",
      "Replacement repositories:\n",
      "    CRAN: https://cran.r-project.org\n",
      "\n",
      "Bioconductor version 3.21 (BiocManager 1.30.26), R 4.5.1 (2025-06-13)\n",
      "\n",
      "Warning message:\n",
      "“package(s) not installed when version(s) same as or greater than current; use\n",
      "  `force = TRUE` to re-install: 'htmlwidgets'”\n"
     ]
    }
   ],
   "source": [
    "BiocManager::install(\"htmlwidgets\")"
   ]
  },
  {
   "cell_type": "code",
   "execution_count": 5,
   "id": "34a51e1a-f9bb-41c2-ada2-2bcd4085595b",
   "metadata": {},
   "outputs": [
    {
     "name": "stderr",
     "output_type": "stream",
     "text": [
      "'getOption(\"repos\")' replaces Bioconductor standard repositories, see\n",
      "'help(\"repositories\", package = \"BiocManager\")' for details.\n",
      "Replacement repositories:\n",
      "    CRAN: https://cran.r-project.org\n",
      "\n",
      "Bioconductor version 3.21 (BiocManager 1.30.26), R 4.5.1 (2025-06-13)\n",
      "\n",
      "Warning message:\n",
      "“package(s) not installed when version(s) same as or greater than current; use\n",
      "  `force = TRUE` to re-install: 'rstatix'”\n"
     ]
    }
   ],
   "source": [
    "BiocManager::install(\"rstatix\")"
   ]
  },
  {
   "cell_type": "code",
   "execution_count": 6,
   "id": "cb75fafb-2474-4935-9c03-401cf1c4227a",
   "metadata": {},
   "outputs": [
    {
     "name": "stderr",
     "output_type": "stream",
     "text": [
      "'getOption(\"repos\")' replaces Bioconductor standard repositories, see\n",
      "'help(\"repositories\", package = \"BiocManager\")' for details.\n",
      "Replacement repositories:\n",
      "    CRAN: https://cran.r-project.org\n",
      "\n",
      "Bioconductor version 3.21 (BiocManager 1.30.26), R 4.5.1 (2025-06-13)\n",
      "\n",
      "Warning message:\n",
      "“package(s) not installed when version(s) same as or greater than current; use\n",
      "  `force = TRUE` to re-install: 'knitr'”\n"
     ]
    }
   ],
   "source": [
    "BiocManager::install(\"knitr\")"
   ]
  },
  {
   "cell_type": "code",
   "execution_count": 7,
   "id": "47c0f7c2-1e00-43ae-beb6-8f7e2ef5b49f",
   "metadata": {},
   "outputs": [
    {
     "name": "stderr",
     "output_type": "stream",
     "text": [
      "'getOption(\"repos\")' replaces Bioconductor standard repositories, see\n",
      "'help(\"repositories\", package = \"BiocManager\")' for details.\n",
      "Replacement repositories:\n",
      "    CRAN: https://cran.r-project.org\n",
      "\n",
      "Bioconductor version 3.21 (BiocManager 1.30.26), R 4.5.1 (2025-06-13)\n",
      "\n",
      "Warning message:\n",
      "“package(s) not installed when version(s) same as or greater than current; use\n",
      "  `force = TRUE` to re-install: 'kableExtra'”\n"
     ]
    }
   ],
   "source": [
    "BiocManager::install(\"kableExtra\")"
   ]
  },
  {
   "cell_type": "code",
   "execution_count": 8,
   "id": "0aaaa8cf-65d1-4ada-abde-d41e668f3910",
   "metadata": {},
   "outputs": [
    {
     "name": "stderr",
     "output_type": "stream",
     "text": [
      "── \u001b[1mAttaching core tidyverse packages\u001b[22m ────────────────────────────────────────────────────────────────────────────────────────────────────────────────────────── tidyverse 2.0.0 ──\n",
      "\u001b[32m✔\u001b[39m \u001b[34mdplyr    \u001b[39m 1.1.4     \u001b[32m✔\u001b[39m \u001b[34mreadr    \u001b[39m 2.1.5\n",
      "\u001b[32m✔\u001b[39m \u001b[34mforcats  \u001b[39m 1.0.0     \u001b[32m✔\u001b[39m \u001b[34mstringr  \u001b[39m 1.5.1\n",
      "\u001b[32m✔\u001b[39m \u001b[34mggplot2  \u001b[39m 3.5.2     \u001b[32m✔\u001b[39m \u001b[34mtibble   \u001b[39m 3.3.0\n",
      "\u001b[32m✔\u001b[39m \u001b[34mlubridate\u001b[39m 1.9.4     \u001b[32m✔\u001b[39m \u001b[34mtidyr    \u001b[39m 1.3.1\n",
      "\u001b[32m✔\u001b[39m \u001b[34mpurrr    \u001b[39m 1.1.0     \n",
      "── \u001b[1mConflicts\u001b[22m ──────────────────────────────────────────────────────────────────────────────────────────────────────────────────────────────────────────── tidyverse_conflicts() ──\n",
      "\u001b[31m✖\u001b[39m \u001b[34mdplyr\u001b[39m::\u001b[32mfilter()\u001b[39m masks \u001b[34mstats\u001b[39m::filter()\n",
      "\u001b[31m✖\u001b[39m \u001b[34mdplyr\u001b[39m::\u001b[32mlag()\u001b[39m    masks \u001b[34mstats\u001b[39m::lag()\n",
      "\u001b[36mℹ\u001b[39m Use the conflicted package (\u001b[3m\u001b[34m<http://conflicted.r-lib.org/>\u001b[39m\u001b[23m) to force all conflicts to become errors\n",
      "\n",
      "Attaching package: ‘plotly’\n",
      "\n",
      "\n",
      "The following object is masked from ‘package:ggplot2’:\n",
      "\n",
      "    last_plot\n",
      "\n",
      "\n",
      "The following object is masked from ‘package:stats’:\n",
      "\n",
      "    filter\n",
      "\n",
      "\n",
      "The following object is masked from ‘package:graphics’:\n",
      "\n",
      "    layout\n",
      "\n",
      "\n",
      "\n",
      "Attaching package: ‘rstatix’\n",
      "\n",
      "\n",
      "The following object is masked from ‘package:stats’:\n",
      "\n",
      "    filter\n",
      "\n",
      "\n",
      "\n",
      "Attaching package: ‘kableExtra’\n",
      "\n",
      "\n",
      "The following object is masked from ‘package:dplyr’:\n",
      "\n",
      "    group_rows\n",
      "\n",
      "\n"
     ]
    }
   ],
   "source": [
    "library(tidyverse)\n",
    "library(plotly)\n",
    "library(htmlwidgets)\n",
    "library(rstatix)\n",
    "library(knitr)\n",
    "library(kableExtra)\n",
    "\n"
   ]
  },
  {
   "cell_type": "code",
   "execution_count": 9,
   "id": "3ae2433a-cfad-4bd7-a7a1-757529363db8",
   "metadata": {},
   "outputs": [
    {
     "data": {
      "text/html": [
       "'/Users/adeslatt/Scitechcon Dropbox/Anne DeslattesMays/projects/elispot/ipynb'"
      ],
      "text/latex": [
       "'/Users/adeslatt/Scitechcon Dropbox/Anne DeslattesMays/projects/elispot/ipynb'"
      ],
      "text/markdown": [
       "'/Users/adeslatt/Scitechcon Dropbox/Anne DeslattesMays/projects/elispot/ipynb'"
      ],
      "text/plain": [
       "[1] \"/Users/adeslatt/Scitechcon Dropbox/Anne DeslattesMays/projects/elispot/ipynb\""
      ]
     },
     "metadata": {},
     "output_type": "display_data"
    }
   ],
   "source": [
    "getwd()"
   ]
  },
  {
   "cell_type": "code",
   "execution_count": 10,
   "id": "d5b29689-6043-43b0-82da-f4a24e5263da",
   "metadata": {},
   "outputs": [
    {
     "data": {
      "text/html": [
       "'/Users/adeslatt/Scitechcon Dropbox/Anne DeslattesMays/projects/elispot/data/SDY196-201'"
      ],
      "text/latex": [
       "'/Users/adeslatt/Scitechcon Dropbox/Anne DeslattesMays/projects/elispot/data/SDY196-201'"
      ],
      "text/markdown": [
       "'/Users/adeslatt/Scitechcon Dropbox/Anne DeslattesMays/projects/elispot/data/SDY196-201'"
      ],
      "text/plain": [
       "[1] \"/Users/adeslatt/Scitechcon Dropbox/Anne DeslattesMays/projects/elispot/data/SDY196-201\""
      ]
     },
     "metadata": {},
     "output_type": "display_data"
    }
   ],
   "source": [
    "setwd(\"../data/SDY196-201\")\n",
    "getwd()"
   ]
  },
  {
   "cell_type": "code",
   "execution_count": 11,
   "id": "8cb5cd7e-22b7-4a90-8e25-5cf48db4eb0d",
   "metadata": {},
   "outputs": [],
   "source": [
    "# Load data\n",
    "elispot <- read.delim(\"elispot_result.txt\", sep = \"\\t\", stringsAsFactors = FALSE)\n",
    "subjects <- read.delim(\"arm_2_subject.txt\", sep = \"\\t\", stringsAsFactors = FALSE)\n"
   ]
  },
  {
   "cell_type": "code",
   "execution_count": 12,
   "id": "2a3d02d5-866f-4d4e-b464-74ccf9c968c4",
   "metadata": {},
   "outputs": [
    {
     "name": "stderr",
     "output_type": "stream",
     "text": [
      "Warning message in left_join(., subjects, by = \"SUBJECT_ACCESSION\"):\n",
      "“\u001b[1m\u001b[22mDetected an unexpected many-to-many relationship between `x` and `y`.\n",
      "\u001b[36mℹ\u001b[39m Row 2 of `x` matches multiple rows in `y`.\n",
      "\u001b[36mℹ\u001b[39m Row 35 of `y` matches multiple rows in `x`.\n",
      "\u001b[36mℹ\u001b[39m If a many-to-many relationship is expected, set `relationship = \"many-to-many\"` to silence this warning.”\n"
     ]
    }
   ],
   "source": [
    "# Merge ELISPOT results with subject metadata\n",
    "elispot <- elispot %>% \n",
    "  left_join(subjects, by = \"SUBJECT_ACCESSION\") %>%\n",
    "  mutate(\n",
    "    STUDY = STUDY_ACCESSION,\n",
    "    GROUP = str_to_title(SUBJECT_PHENOTYPE),\n",
    "    AGE = MIN_SUBJECT_AGE_IN_YEARS,\n",
    "    AGE_GROUP = case_when(\n",
    "      AGE < 5 ~ \"<5\",\n",
    "      AGE < 18 ~ \"5-17\",\n",
    "      AGE < 40 ~ \"18-39\",\n",
    "      AGE < 65 ~ \"40-64\",\n",
    "      TRUE ~ \"65+\"\n",
    "    )\n",
    "  )"
   ]
  },
  {
   "cell_type": "code",
   "execution_count": 13,
   "id": "18f985b5-dab3-4001-bb6c-caadefb4b9a3",
   "metadata": {},
   "outputs": [],
   "source": [
    "# Summary stats table\n",
    "summary_table <- elispot %>%\n",
    "  group_by(STUDY, GROUP) %>%\n",
    "  summarise(\n",
    "    N = n(),\n",
    "    Mean_Spot = mean(SPOT_NUMBER_REPORTED, na.rm = TRUE),\n",
    "    Median_Spot = median(SPOT_NUMBER_REPORTED, na.rm = TRUE),\n",
    "    SD_Spot = sd(SPOT_NUMBER_REPORTED, na.rm = TRUE),\n",
    "    .groups = \"drop\"\n",
    "  )\n"
   ]
  },
  {
   "cell_type": "code",
   "execution_count": 18,
   "id": "3852bd90-f8d6-45a0-8ff4-12c0f31cf14b",
   "metadata": {},
   "outputs": [
    {
     "data": {
      "text/html": [
       "<table class=\"dataframe\">\n",
       "<caption>A tibble: 6 × 6</caption>\n",
       "<thead>\n",
       "\t<tr><th scope=col>STUDY</th><th scope=col>GROUP</th><th scope=col>N</th><th scope=col>Mean_Spot</th><th scope=col>Median_Spot</th><th scope=col>SD_Spot</th></tr>\n",
       "\t<tr><th scope=col>&lt;chr&gt;</th><th scope=col>&lt;chr&gt;</th><th scope=col>&lt;int&gt;</th><th scope=col>&lt;dbl&gt;</th><th scope=col>&lt;dbl&gt;</th><th scope=col>&lt;dbl&gt;</th></tr>\n",
       "</thead>\n",
       "<tbody>\n",
       "\t<tr><td>SDY196</td><td>Case   </td><td>726</td><td>198.9008</td><td>155.0</td><td>176.6368</td></tr>\n",
       "\t<tr><td>SDY196</td><td>Control</td><td>864</td><td>310.0903</td><td>275.0</td><td>220.3965</td></tr>\n",
       "\t<tr><td>SDY197</td><td>Case   </td><td>600</td><td>230.4483</td><td>143.0</td><td>258.4593</td></tr>\n",
       "\t<tr><td>SDY197</td><td>Control</td><td>704</td><td>289.2545</td><td>186.5</td><td>279.2921</td></tr>\n",
       "\t<tr><td>SDY198</td><td>Case   </td><td>648</td><td>191.5701</td><td>102.3</td><td>212.7159</td></tr>\n",
       "\t<tr><td>SDY198</td><td>Control</td><td>780</td><td>220.5828</td><td>133.0</td><td>236.8002</td></tr>\n",
       "</tbody>\n",
       "</table>\n"
      ],
      "text/latex": [
       "A tibble: 6 × 6\n",
       "\\begin{tabular}{llllll}\n",
       " STUDY & GROUP & N & Mean\\_Spot & Median\\_Spot & SD\\_Spot\\\\\n",
       " <chr> & <chr> & <int> & <dbl> & <dbl> & <dbl>\\\\\n",
       "\\hline\n",
       "\t SDY196 & Case    & 726 & 198.9008 & 155.0 & 176.6368\\\\\n",
       "\t SDY196 & Control & 864 & 310.0903 & 275.0 & 220.3965\\\\\n",
       "\t SDY197 & Case    & 600 & 230.4483 & 143.0 & 258.4593\\\\\n",
       "\t SDY197 & Control & 704 & 289.2545 & 186.5 & 279.2921\\\\\n",
       "\t SDY198 & Case    & 648 & 191.5701 & 102.3 & 212.7159\\\\\n",
       "\t SDY198 & Control & 780 & 220.5828 & 133.0 & 236.8002\\\\\n",
       "\\end{tabular}\n"
      ],
      "text/markdown": [
       "\n",
       "A tibble: 6 × 6\n",
       "\n",
       "| STUDY &lt;chr&gt; | GROUP &lt;chr&gt; | N &lt;int&gt; | Mean_Spot &lt;dbl&gt; | Median_Spot &lt;dbl&gt; | SD_Spot &lt;dbl&gt; |\n",
       "|---|---|---|---|---|---|\n",
       "| SDY196 | Case    | 726 | 198.9008 | 155.0 | 176.6368 |\n",
       "| SDY196 | Control | 864 | 310.0903 | 275.0 | 220.3965 |\n",
       "| SDY197 | Case    | 600 | 230.4483 | 143.0 | 258.4593 |\n",
       "| SDY197 | Control | 704 | 289.2545 | 186.5 | 279.2921 |\n",
       "| SDY198 | Case    | 648 | 191.5701 | 102.3 | 212.7159 |\n",
       "| SDY198 | Control | 780 | 220.5828 | 133.0 | 236.8002 |\n",
       "\n"
      ],
      "text/plain": [
       "  STUDY  GROUP   N   Mean_Spot Median_Spot SD_Spot \n",
       "1 SDY196 Case    726 198.9008  155.0       176.6368\n",
       "2 SDY196 Control 864 310.0903  275.0       220.3965\n",
       "3 SDY197 Case    600 230.4483  143.0       258.4593\n",
       "4 SDY197 Control 704 289.2545  186.5       279.2921\n",
       "5 SDY198 Case    648 191.5701  102.3       212.7159\n",
       "6 SDY198 Control 780 220.5828  133.0       236.8002"
      ]
     },
     "metadata": {},
     "output_type": "display_data"
    }
   ],
   "source": [
    "head (summary_table)"
   ]
  },
  {
   "cell_type": "code",
   "execution_count": 20,
   "id": "46d33344-d55b-4b4a-8208-09cdb30f970e",
   "metadata": {},
   "outputs": [
    {
     "data": {
      "text/html": [
       "<style>\n",
       ".list-inline {list-style: none; margin:0; padding: 0}\n",
       ".list-inline>li {display: inline-block}\n",
       ".list-inline>li:not(:last-child)::after {content: \"\\00b7\"; padding: 0 .5ex}\n",
       "</style>\n",
       "<ol class=list-inline><li>'RESULT_ID'</li><li>'ANALYTE_ACCESSION'</li><li>'ANALYTE_PREFERRED'</li><li>'ANALYTE_REPORTED'</li><li>'ARM_ACCESSION.x'</li><li>'BIOSAMPLE_ACCESSION'</li><li>'CELL_NUMBER_PREFERRED'</li><li>'CELL_NUMBER_REPORTED'</li><li>'COMMENTS'</li><li>'EXPERIMENT_ACCESSION'</li><li>'EXPSAMPLE_ACCESSION'</li><li>'REPOSITORY_ACCESSION'</li><li>'REPOSITORY_NAME'</li><li>'SPOT_NUMBER_PREFERRED'</li><li>'SPOT_NUMBER_REPORTED'</li><li>'STUDY_ACCESSION'</li><li>'STUDY_TIME_COLLECTED'</li><li>'STUDY_TIME_COLLECTED_UNIT'</li><li>'SUBJECT_ACCESSION'</li><li>'WORKSPACE_ID'</li><li>'ARM_ACCESSION.y'</li><li>'AGE_EVENT.x'</li><li>'AGE_EVENT_SPECIFY.x'</li><li>'AGE_UNIT.x'</li><li>'MAX_SUBJECT_AGE.x'</li><li>'MIN_SUBJECT_AGE.x'</li><li>'SUBJECT_PHENOTYPE.x'</li><li>'SUBJECT_LOCATION.x'</li><li>'MAX_SUBJECT_AGE_IN_YEARS.x'</li><li>'MIN_SUBJECT_AGE_IN_YEARS.x'</li><li>'STUDY'</li><li>'GROUP'</li><li>'AGE'</li><li>'AGE_GROUP'</li><li>'ARM_ACCESSION'</li><li>'AGE_EVENT.y'</li><li>'AGE_EVENT_SPECIFY.y'</li><li>'AGE_UNIT.y'</li><li>'MAX_SUBJECT_AGE.y'</li><li>'MIN_SUBJECT_AGE.y'</li><li>'SUBJECT_PHENOTYPE.y'</li><li>'SUBJECT_LOCATION.y'</li><li>'MAX_SUBJECT_AGE_IN_YEARS.y'</li><li>'MIN_SUBJECT_AGE_IN_YEARS.y'</li></ol>\n"
      ],
      "text/latex": [
       "\\begin{enumerate*}\n",
       "\\item 'RESULT\\_ID'\n",
       "\\item 'ANALYTE\\_ACCESSION'\n",
       "\\item 'ANALYTE\\_PREFERRED'\n",
       "\\item 'ANALYTE\\_REPORTED'\n",
       "\\item 'ARM\\_ACCESSION.x'\n",
       "\\item 'BIOSAMPLE\\_ACCESSION'\n",
       "\\item 'CELL\\_NUMBER\\_PREFERRED'\n",
       "\\item 'CELL\\_NUMBER\\_REPORTED'\n",
       "\\item 'COMMENTS'\n",
       "\\item 'EXPERIMENT\\_ACCESSION'\n",
       "\\item 'EXPSAMPLE\\_ACCESSION'\n",
       "\\item 'REPOSITORY\\_ACCESSION'\n",
       "\\item 'REPOSITORY\\_NAME'\n",
       "\\item 'SPOT\\_NUMBER\\_PREFERRED'\n",
       "\\item 'SPOT\\_NUMBER\\_REPORTED'\n",
       "\\item 'STUDY\\_ACCESSION'\n",
       "\\item 'STUDY\\_TIME\\_COLLECTED'\n",
       "\\item 'STUDY\\_TIME\\_COLLECTED\\_UNIT'\n",
       "\\item 'SUBJECT\\_ACCESSION'\n",
       "\\item 'WORKSPACE\\_ID'\n",
       "\\item 'ARM\\_ACCESSION.y'\n",
       "\\item 'AGE\\_EVENT.x'\n",
       "\\item 'AGE\\_EVENT\\_SPECIFY.x'\n",
       "\\item 'AGE\\_UNIT.x'\n",
       "\\item 'MAX\\_SUBJECT\\_AGE.x'\n",
       "\\item 'MIN\\_SUBJECT\\_AGE.x'\n",
       "\\item 'SUBJECT\\_PHENOTYPE.x'\n",
       "\\item 'SUBJECT\\_LOCATION.x'\n",
       "\\item 'MAX\\_SUBJECT\\_AGE\\_IN\\_YEARS.x'\n",
       "\\item 'MIN\\_SUBJECT\\_AGE\\_IN\\_YEARS.x'\n",
       "\\item 'STUDY'\n",
       "\\item 'GROUP'\n",
       "\\item 'AGE'\n",
       "\\item 'AGE\\_GROUP'\n",
       "\\item 'ARM\\_ACCESSION'\n",
       "\\item 'AGE\\_EVENT.y'\n",
       "\\item 'AGE\\_EVENT\\_SPECIFY.y'\n",
       "\\item 'AGE\\_UNIT.y'\n",
       "\\item 'MAX\\_SUBJECT\\_AGE.y'\n",
       "\\item 'MIN\\_SUBJECT\\_AGE.y'\n",
       "\\item 'SUBJECT\\_PHENOTYPE.y'\n",
       "\\item 'SUBJECT\\_LOCATION.y'\n",
       "\\item 'MAX\\_SUBJECT\\_AGE\\_IN\\_YEARS.y'\n",
       "\\item 'MIN\\_SUBJECT\\_AGE\\_IN\\_YEARS.y'\n",
       "\\end{enumerate*}\n"
      ],
      "text/markdown": [
       "1. 'RESULT_ID'\n",
       "2. 'ANALYTE_ACCESSION'\n",
       "3. 'ANALYTE_PREFERRED'\n",
       "4. 'ANALYTE_REPORTED'\n",
       "5. 'ARM_ACCESSION.x'\n",
       "6. 'BIOSAMPLE_ACCESSION'\n",
       "7. 'CELL_NUMBER_PREFERRED'\n",
       "8. 'CELL_NUMBER_REPORTED'\n",
       "9. 'COMMENTS'\n",
       "10. 'EXPERIMENT_ACCESSION'\n",
       "11. 'EXPSAMPLE_ACCESSION'\n",
       "12. 'REPOSITORY_ACCESSION'\n",
       "13. 'REPOSITORY_NAME'\n",
       "14. 'SPOT_NUMBER_PREFERRED'\n",
       "15. 'SPOT_NUMBER_REPORTED'\n",
       "16. 'STUDY_ACCESSION'\n",
       "17. 'STUDY_TIME_COLLECTED'\n",
       "18. 'STUDY_TIME_COLLECTED_UNIT'\n",
       "19. 'SUBJECT_ACCESSION'\n",
       "20. 'WORKSPACE_ID'\n",
       "21. 'ARM_ACCESSION.y'\n",
       "22. 'AGE_EVENT.x'\n",
       "23. 'AGE_EVENT_SPECIFY.x'\n",
       "24. 'AGE_UNIT.x'\n",
       "25. 'MAX_SUBJECT_AGE.x'\n",
       "26. 'MIN_SUBJECT_AGE.x'\n",
       "27. 'SUBJECT_PHENOTYPE.x'\n",
       "28. 'SUBJECT_LOCATION.x'\n",
       "29. 'MAX_SUBJECT_AGE_IN_YEARS.x'\n",
       "30. 'MIN_SUBJECT_AGE_IN_YEARS.x'\n",
       "31. 'STUDY'\n",
       "32. 'GROUP'\n",
       "33. 'AGE'\n",
       "34. 'AGE_GROUP'\n",
       "35. 'ARM_ACCESSION'\n",
       "36. 'AGE_EVENT.y'\n",
       "37. 'AGE_EVENT_SPECIFY.y'\n",
       "38. 'AGE_UNIT.y'\n",
       "39. 'MAX_SUBJECT_AGE.y'\n",
       "40. 'MIN_SUBJECT_AGE.y'\n",
       "41. 'SUBJECT_PHENOTYPE.y'\n",
       "42. 'SUBJECT_LOCATION.y'\n",
       "43. 'MAX_SUBJECT_AGE_IN_YEARS.y'\n",
       "44. 'MIN_SUBJECT_AGE_IN_YEARS.y'\n",
       "\n",
       "\n"
      ],
      "text/plain": [
       " [1] \"RESULT_ID\"                  \"ANALYTE_ACCESSION\"         \n",
       " [3] \"ANALYTE_PREFERRED\"          \"ANALYTE_REPORTED\"          \n",
       " [5] \"ARM_ACCESSION.x\"            \"BIOSAMPLE_ACCESSION\"       \n",
       " [7] \"CELL_NUMBER_PREFERRED\"      \"CELL_NUMBER_REPORTED\"      \n",
       " [9] \"COMMENTS\"                   \"EXPERIMENT_ACCESSION\"      \n",
       "[11] \"EXPSAMPLE_ACCESSION\"        \"REPOSITORY_ACCESSION\"      \n",
       "[13] \"REPOSITORY_NAME\"            \"SPOT_NUMBER_PREFERRED\"     \n",
       "[15] \"SPOT_NUMBER_REPORTED\"       \"STUDY_ACCESSION\"           \n",
       "[17] \"STUDY_TIME_COLLECTED\"       \"STUDY_TIME_COLLECTED_UNIT\" \n",
       "[19] \"SUBJECT_ACCESSION\"          \"WORKSPACE_ID\"              \n",
       "[21] \"ARM_ACCESSION.y\"            \"AGE_EVENT.x\"               \n",
       "[23] \"AGE_EVENT_SPECIFY.x\"        \"AGE_UNIT.x\"                \n",
       "[25] \"MAX_SUBJECT_AGE.x\"          \"MIN_SUBJECT_AGE.x\"         \n",
       "[27] \"SUBJECT_PHENOTYPE.x\"        \"SUBJECT_LOCATION.x\"        \n",
       "[29] \"MAX_SUBJECT_AGE_IN_YEARS.x\" \"MIN_SUBJECT_AGE_IN_YEARS.x\"\n",
       "[31] \"STUDY\"                      \"GROUP\"                     \n",
       "[33] \"AGE\"                        \"AGE_GROUP\"                 \n",
       "[35] \"ARM_ACCESSION\"              \"AGE_EVENT.y\"               \n",
       "[37] \"AGE_EVENT_SPECIFY.y\"        \"AGE_UNIT.y\"                \n",
       "[39] \"MAX_SUBJECT_AGE.y\"          \"MIN_SUBJECT_AGE.y\"         \n",
       "[41] \"SUBJECT_PHENOTYPE.y\"        \"SUBJECT_LOCATION.y\"        \n",
       "[43] \"MAX_SUBJECT_AGE_IN_YEARS.y\" \"MIN_SUBJECT_AGE_IN_YEARS.y\""
      ]
     },
     "metadata": {},
     "output_type": "display_data"
    },
    {
     "data": {
      "text/html": [
       "<style>\n",
       ".list-inline {list-style: none; margin:0; padding: 0}\n",
       ".list-inline>li {display: inline-block}\n",
       ".list-inline>li:not(:last-child)::after {content: \"\\00b7\"; padding: 0 .5ex}\n",
       "</style>\n",
       "<ol class=list-inline><li>'ARM_ACCESSION'</li><li>'SUBJECT_ACCESSION'</li><li>'AGE_EVENT'</li><li>'AGE_EVENT_SPECIFY'</li><li>'AGE_UNIT'</li><li>'MAX_SUBJECT_AGE'</li><li>'MIN_SUBJECT_AGE'</li><li>'SUBJECT_PHENOTYPE'</li><li>'SUBJECT_LOCATION'</li><li>'MAX_SUBJECT_AGE_IN_YEARS'</li><li>'MIN_SUBJECT_AGE_IN_YEARS'</li></ol>\n"
      ],
      "text/latex": [
       "\\begin{enumerate*}\n",
       "\\item 'ARM\\_ACCESSION'\n",
       "\\item 'SUBJECT\\_ACCESSION'\n",
       "\\item 'AGE\\_EVENT'\n",
       "\\item 'AGE\\_EVENT\\_SPECIFY'\n",
       "\\item 'AGE\\_UNIT'\n",
       "\\item 'MAX\\_SUBJECT\\_AGE'\n",
       "\\item 'MIN\\_SUBJECT\\_AGE'\n",
       "\\item 'SUBJECT\\_PHENOTYPE'\n",
       "\\item 'SUBJECT\\_LOCATION'\n",
       "\\item 'MAX\\_SUBJECT\\_AGE\\_IN\\_YEARS'\n",
       "\\item 'MIN\\_SUBJECT\\_AGE\\_IN\\_YEARS'\n",
       "\\end{enumerate*}\n"
      ],
      "text/markdown": [
       "1. 'ARM_ACCESSION'\n",
       "2. 'SUBJECT_ACCESSION'\n",
       "3. 'AGE_EVENT'\n",
       "4. 'AGE_EVENT_SPECIFY'\n",
       "5. 'AGE_UNIT'\n",
       "6. 'MAX_SUBJECT_AGE'\n",
       "7. 'MIN_SUBJECT_AGE'\n",
       "8. 'SUBJECT_PHENOTYPE'\n",
       "9. 'SUBJECT_LOCATION'\n",
       "10. 'MAX_SUBJECT_AGE_IN_YEARS'\n",
       "11. 'MIN_SUBJECT_AGE_IN_YEARS'\n",
       "\n",
       "\n"
      ],
      "text/plain": [
       " [1] \"ARM_ACCESSION\"            \"SUBJECT_ACCESSION\"       \n",
       " [3] \"AGE_EVENT\"                \"AGE_EVENT_SPECIFY\"       \n",
       " [5] \"AGE_UNIT\"                 \"MAX_SUBJECT_AGE\"         \n",
       " [7] \"MIN_SUBJECT_AGE\"          \"SUBJECT_PHENOTYPE\"       \n",
       " [9] \"SUBJECT_LOCATION\"         \"MAX_SUBJECT_AGE_IN_YEARS\"\n",
       "[11] \"MIN_SUBJECT_AGE_IN_YEARS\""
      ]
     },
     "metadata": {},
     "output_type": "display_data"
    }
   ],
   "source": [
    "colnames (elispot)\n",
    "colnames (subjects)"
   ]
  },
  {
   "cell_type": "code",
   "execution_count": 15,
   "id": "ae436d6b-54ea-4b08-9986-cedb4894ac6b",
   "metadata": {},
   "outputs": [],
   "source": [
    "library(plotly)\n",
    "library(htmlwidgets)\n"
   ]
  },
  {
   "cell_type": "code",
   "execution_count": 17,
   "id": "e6e2dd55-0c75-4f68-8384-be9b1a107af4",
   "metadata": {},
   "outputs": [],
   "source": [
    "# Create summary table as a plotly object\n",
    "summary_widget <- plot_ly(\n",
    "  type = 'table',\n",
    "  header = list(values = names(summary_table)),\n",
    "  cells = list(values = lapply(summary_table, as.character))\n",
    ")\n",
    "\n",
    "# Save to HTML (NOT selfcontained)\n",
    "htmlwidgets::saveWidget(summary_widget, \"elispot_summary_table.html\", selfcontained = FALSE)"
   ]
  },
  {
   "cell_type": "code",
   "execution_count": null,
   "id": "94709226-1b8b-4789-9b44-36e1e6b61ab2",
   "metadata": {},
   "outputs": [],
   "source": [
    "\n",
    "\n",
    "# Define age bins\n",
    "elispot <- elispot %>% \n",
    "  mutate(age_group = cut(MIN_SUBJECT_AGE_IN_YEARS, breaks = c(0, 18, 30, 45, 60, Inf), \n",
    "                         labels = c(\"<18\", \"18-30\", \"31-45\", \"46-60\", \"60+\"), right = FALSE))\n",
    "\n",
    "# Summary statistics by study and group\n",
    "summary_stats <- elispot %>% \n",
    "  group_by(study, group) %>% \n",
    "  summarise(across(where(is.numeric), list(mean = mean, sd = sd, median = median, n = length), \n",
    "                   .names = \"{.col}_{.fn}\"), .groups = \"drop\")\n",
    "\n",
    "# Save summary table as HTML\n",
    "summary_html <- kable(summary_stats, format = \"html\", table.attr = \"class='table table-striped'\", digits = 2) %>%\n",
    "  kable_styling(bootstrap_options = c(\"striped\", \"hover\", \"condensed\"))\n",
    "\n",
    "save_html(summary_html, file = \"elispot_summary_table.html\")\n",
    "\n",
    "# Wilcoxon test per study (example for 'spot_count')\n",
    "tests <- elispot %>% \n",
    "  group_by(study) %>% \n",
    "  wilcox_test(spot_count ~ group) %>% \n",
    "  adjust_pvalue(method = \"BH\") %>% \n",
    "  add_significance()\n",
    "\n",
    "# Merge back to annotate plots\n",
    "test_labels <- tests %>% \n",
    "  mutate(y.position = max(elispot$spot_count, na.rm = TRUE) * 0.95) %>% \n",
    "  select(study, p.adj, p.adj.signif, y.position)\n",
    "\n",
    "# Interactive box plot by group\n",
    "p <- elispot %>% \n",
    "  plot_ly(x = ~group, y = ~spot_count, color = ~group, type = \"box\", \n",
    "          hoverinfo = 'text',\n",
    "          text = ~paste(\"Study:\", study, \"<br>Age:\", MIN_SUBJECT_AGE_IN_YEARS, \"<br>Subject:\", SUBJECT_ACCESSION)) %>%\n",
    "  layout(title = \"ELISPOT Spot Count by Group\",\n",
    "         yaxis = list(title = \"Spot Count\"),\n",
    "         boxmode = \"group\")\n",
    "\n",
    "# Save interactive plot\n",
    "saveWidget(p, \"elispot_group_boxplot.html\")\n",
    "\n",
    "# Interactive box plot by group and age group\n",
    "p_age <- elispot %>% \n",
    "  plot_ly(x = ~age_group, y = ~spot_count, color = ~group, type = \"box\",\n",
    "          hoverinfo = 'text',\n",
    "          text = ~paste(\"Study:\", study, \"<br>Subject:\", SUBJECT_ACCESSION)) %>%\n",
    "  layout(title = \"ELISPOT Spot Count by Age Group and Group\",\n",
    "         yaxis = list(title = \"Spot Count\"),\n",
    "         boxmode = \"group\")\n",
    "\n",
    "# Save age group box plot\n",
    "saveWidget(p_age, \"elispot_agegroup_boxplot.html\")"
   ]
  },
  {
   "cell_type": "code",
   "execution_count": null,
   "id": "8f1232eb-d9b6-4371-9426-124cb1370f84",
   "metadata": {},
   "outputs": [],
   "source": []
  }
 ],
 "metadata": {
  "kernelspec": {
   "display_name": "R (system)",
   "language": "R",
   "name": "ir-system-r"
  },
  "language_info": {
   "codemirror_mode": "r",
   "file_extension": ".r",
   "mimetype": "text/x-r-source",
   "name": "R",
   "pygments_lexer": "r",
   "version": "4.5.1"
  }
 },
 "nbformat": 4,
 "nbformat_minor": 5
}
